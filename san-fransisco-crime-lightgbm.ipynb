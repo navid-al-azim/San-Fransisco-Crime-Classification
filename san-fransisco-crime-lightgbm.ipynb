{
 "cells": [
  {
   "cell_type": "code",
   "execution_count": 1,
   "id": "81c17bf1",
   "metadata": {
    "_cell_guid": "b1076dfc-b9ad-4769-8c92-a6c4dae69d19",
    "_uuid": "8f2839f25d086af736a60e9eeb907d3b93b6e0e5",
    "execution": {
     "iopub.execute_input": "2021-08-04T23:58:38.211154Z",
     "iopub.status.busy": "2021-08-04T23:58:38.210087Z",
     "iopub.status.idle": "2021-08-04T23:58:38.215703Z",
     "shell.execute_reply": "2021-08-04T23:58:38.216269Z",
     "shell.execute_reply.started": "2021-08-04T21:56:41.596438Z"
    },
    "papermill": {
     "duration": 0.050543,
     "end_time": "2021-08-04T23:58:38.216672",
     "exception": false,
     "start_time": "2021-08-04T23:58:38.166129",
     "status": "completed"
    },
    "tags": []
   },
   "outputs": [
    {
     "name": "stdout",
     "output_type": "stream",
     "text": [
      "/kaggle/input/sf-crime/train.csv.zip\n",
      "/kaggle/input/sf-crime/sampleSubmission.csv.zip\n",
      "/kaggle/input/sf-crime/test.csv.zip\n"
     ]
    }
   ],
   "source": [
    "import numpy as np\n",
    "import pandas as pd \n",
    "import os\n",
    "for dirname, _, filenames in os.walk('/kaggle/input'):\n",
    "    for filename in filenames:\n",
    "        print(os.path.join(dirname, filename))"
   ]
  },
  {
   "cell_type": "code",
   "execution_count": 2,
   "id": "1ea1171f",
   "metadata": {
    "execution": {
     "iopub.execute_input": "2021-08-04T23:58:38.278362Z",
     "iopub.status.busy": "2021-08-04T23:58:38.277198Z",
     "iopub.status.idle": "2021-08-04T23:58:39.450161Z",
     "shell.execute_reply": "2021-08-04T23:58:39.449403Z",
     "shell.execute_reply.started": "2021-08-04T22:51:18.125161Z"
    },
    "papermill": {
     "duration": 1.204126,
     "end_time": "2021-08-04T23:58:39.450336",
     "exception": false,
     "start_time": "2021-08-04T23:58:38.246210",
     "status": "completed"
    },
    "tags": []
   },
   "outputs": [],
   "source": [
    "import matplotlib.pyplot as plt\n",
    "import seaborn as sns\n",
    "%matplotlib inline"
   ]
  },
  {
   "cell_type": "code",
   "execution_count": 3,
   "id": "13218f95",
   "metadata": {
    "execution": {
     "iopub.execute_input": "2021-08-04T23:58:39.516153Z",
     "iopub.status.busy": "2021-08-04T23:58:39.515245Z",
     "iopub.status.idle": "2021-08-04T23:58:50.469578Z",
     "shell.execute_reply": "2021-08-04T23:58:50.468977Z",
     "shell.execute_reply.started": "2021-08-04T22:51:20.207800Z"
    },
    "papermill": {
     "duration": 10.991314,
     "end_time": "2021-08-04T23:58:50.469792",
     "exception": false,
     "start_time": "2021-08-04T23:58:39.478478",
     "status": "completed"
    },
    "tags": []
   },
   "outputs": [],
   "source": [
    "train = pd.read_csv('/kaggle/input/sf-crime/train.csv.zip', parse_dates=['Dates'])\n",
    "test = pd.read_csv('/kaggle/input/sf-crime/test.csv.zip', parse_dates=['Dates'], index_col = 'Id')\n",
    "samSub = pd.read_csv('/kaggle/input/sf-crime/sampleSubmission.csv.zip')"
   ]
  },
  {
   "cell_type": "code",
   "execution_count": 4,
   "id": "d1300b26",
   "metadata": {
    "execution": {
     "iopub.execute_input": "2021-08-04T23:58:50.532913Z",
     "iopub.status.busy": "2021-08-04T23:58:50.532153Z",
     "iopub.status.idle": "2021-08-04T23:58:50.554178Z",
     "shell.execute_reply": "2021-08-04T23:58:50.554695Z",
     "shell.execute_reply.started": "2021-08-04T22:51:29.705111Z"
    },
    "papermill": {
     "duration": 0.057669,
     "end_time": "2021-08-04T23:58:50.554924",
     "exception": false,
     "start_time": "2021-08-04T23:58:50.497255",
     "status": "completed"
    },
    "tags": []
   },
   "outputs": [
    {
     "data": {
      "text/html": [
       "<div>\n",
       "<style scoped>\n",
       "    .dataframe tbody tr th:only-of-type {\n",
       "        vertical-align: middle;\n",
       "    }\n",
       "\n",
       "    .dataframe tbody tr th {\n",
       "        vertical-align: top;\n",
       "    }\n",
       "\n",
       "    .dataframe thead th {\n",
       "        text-align: right;\n",
       "    }\n",
       "</style>\n",
       "<table border=\"1\" class=\"dataframe\">\n",
       "  <thead>\n",
       "    <tr style=\"text-align: right;\">\n",
       "      <th></th>\n",
       "      <th>Dates</th>\n",
       "      <th>Category</th>\n",
       "      <th>Descript</th>\n",
       "      <th>DayOfWeek</th>\n",
       "      <th>PdDistrict</th>\n",
       "      <th>Resolution</th>\n",
       "      <th>Address</th>\n",
       "      <th>X</th>\n",
       "      <th>Y</th>\n",
       "    </tr>\n",
       "  </thead>\n",
       "  <tbody>\n",
       "    <tr>\n",
       "      <th>0</th>\n",
       "      <td>2015-05-13 23:53:00</td>\n",
       "      <td>WARRANTS</td>\n",
       "      <td>WARRANT ARREST</td>\n",
       "      <td>Wednesday</td>\n",
       "      <td>NORTHERN</td>\n",
       "      <td>ARREST, BOOKED</td>\n",
       "      <td>OAK ST / LAGUNA ST</td>\n",
       "      <td>-122.425892</td>\n",
       "      <td>37.774599</td>\n",
       "    </tr>\n",
       "    <tr>\n",
       "      <th>1</th>\n",
       "      <td>2015-05-13 23:53:00</td>\n",
       "      <td>OTHER OFFENSES</td>\n",
       "      <td>TRAFFIC VIOLATION ARREST</td>\n",
       "      <td>Wednesday</td>\n",
       "      <td>NORTHERN</td>\n",
       "      <td>ARREST, BOOKED</td>\n",
       "      <td>OAK ST / LAGUNA ST</td>\n",
       "      <td>-122.425892</td>\n",
       "      <td>37.774599</td>\n",
       "    </tr>\n",
       "  </tbody>\n",
       "</table>\n",
       "</div>"
      ],
      "text/plain": [
       "                Dates        Category                  Descript  DayOfWeek  \\\n",
       "0 2015-05-13 23:53:00        WARRANTS            WARRANT ARREST  Wednesday   \n",
       "1 2015-05-13 23:53:00  OTHER OFFENSES  TRAFFIC VIOLATION ARREST  Wednesday   \n",
       "\n",
       "  PdDistrict      Resolution             Address           X          Y  \n",
       "0   NORTHERN  ARREST, BOOKED  OAK ST / LAGUNA ST -122.425892  37.774599  \n",
       "1   NORTHERN  ARREST, BOOKED  OAK ST / LAGUNA ST -122.425892  37.774599  "
      ]
     },
     "execution_count": 4,
     "metadata": {},
     "output_type": "execute_result"
    }
   ],
   "source": [
    "train.head(2)"
   ]
  },
  {
   "cell_type": "code",
   "execution_count": 5,
   "id": "05aa0731",
   "metadata": {
    "execution": {
     "iopub.execute_input": "2021-08-04T23:58:50.627481Z",
     "iopub.status.busy": "2021-08-04T23:58:50.626371Z",
     "iopub.status.idle": "2021-08-04T23:58:50.631441Z",
     "shell.execute_reply": "2021-08-04T23:58:50.630920Z",
     "shell.execute_reply.started": "2021-08-04T22:51:32.482112Z"
    },
    "papermill": {
     "duration": 0.048397,
     "end_time": "2021-08-04T23:58:50.631620",
     "exception": false,
     "start_time": "2021-08-04T23:58:50.583223",
     "status": "completed"
    },
    "tags": []
   },
   "outputs": [
    {
     "data": {
      "text/html": [
       "<div>\n",
       "<style scoped>\n",
       "    .dataframe tbody tr th:only-of-type {\n",
       "        vertical-align: middle;\n",
       "    }\n",
       "\n",
       "    .dataframe tbody tr th {\n",
       "        vertical-align: top;\n",
       "    }\n",
       "\n",
       "    .dataframe thead th {\n",
       "        text-align: right;\n",
       "    }\n",
       "</style>\n",
       "<table border=\"1\" class=\"dataframe\">\n",
       "  <thead>\n",
       "    <tr style=\"text-align: right;\">\n",
       "      <th></th>\n",
       "      <th>Dates</th>\n",
       "      <th>DayOfWeek</th>\n",
       "      <th>PdDistrict</th>\n",
       "      <th>Address</th>\n",
       "      <th>X</th>\n",
       "      <th>Y</th>\n",
       "    </tr>\n",
       "    <tr>\n",
       "      <th>Id</th>\n",
       "      <th></th>\n",
       "      <th></th>\n",
       "      <th></th>\n",
       "      <th></th>\n",
       "      <th></th>\n",
       "      <th></th>\n",
       "    </tr>\n",
       "  </thead>\n",
       "  <tbody>\n",
       "    <tr>\n",
       "      <th>0</th>\n",
       "      <td>2015-05-10 23:59:00</td>\n",
       "      <td>Sunday</td>\n",
       "      <td>BAYVIEW</td>\n",
       "      <td>2000 Block of THOMAS AV</td>\n",
       "      <td>-122.399588</td>\n",
       "      <td>37.735051</td>\n",
       "    </tr>\n",
       "    <tr>\n",
       "      <th>1</th>\n",
       "      <td>2015-05-10 23:51:00</td>\n",
       "      <td>Sunday</td>\n",
       "      <td>BAYVIEW</td>\n",
       "      <td>3RD ST / REVERE AV</td>\n",
       "      <td>-122.391523</td>\n",
       "      <td>37.732432</td>\n",
       "    </tr>\n",
       "  </tbody>\n",
       "</table>\n",
       "</div>"
      ],
      "text/plain": [
       "                 Dates DayOfWeek PdDistrict                  Address  \\\n",
       "Id                                                                     \n",
       "0  2015-05-10 23:59:00    Sunday    BAYVIEW  2000 Block of THOMAS AV   \n",
       "1  2015-05-10 23:51:00    Sunday    BAYVIEW       3RD ST / REVERE AV   \n",
       "\n",
       "             X          Y  \n",
       "Id                         \n",
       "0  -122.399588  37.735051  \n",
       "1  -122.391523  37.732432  "
      ]
     },
     "execution_count": 5,
     "metadata": {},
     "output_type": "execute_result"
    }
   ],
   "source": [
    "test.head(2)"
   ]
  },
  {
   "cell_type": "code",
   "execution_count": 6,
   "id": "5aa65444",
   "metadata": {
    "execution": {
     "iopub.execute_input": "2021-08-04T23:58:50.696759Z",
     "iopub.status.busy": "2021-08-04T23:58:50.696024Z",
     "iopub.status.idle": "2021-08-04T23:58:50.905194Z",
     "shell.execute_reply": "2021-08-04T23:58:50.905777Z",
     "shell.execute_reply.started": "2021-08-04T22:51:36.547042Z"
    },
    "papermill": {
     "duration": 0.243221,
     "end_time": "2021-08-04T23:58:50.905997",
     "exception": false,
     "start_time": "2021-08-04T23:58:50.662776",
     "status": "completed"
    },
    "tags": []
   },
   "outputs": [
    {
     "data": {
      "text/html": [
       "<div>\n",
       "<style scoped>\n",
       "    .dataframe tbody tr th:only-of-type {\n",
       "        vertical-align: middle;\n",
       "    }\n",
       "\n",
       "    .dataframe tbody tr th {\n",
       "        vertical-align: top;\n",
       "    }\n",
       "\n",
       "    .dataframe thead th {\n",
       "        text-align: right;\n",
       "    }\n",
       "</style>\n",
       "<table border=\"1\" class=\"dataframe\">\n",
       "  <thead>\n",
       "    <tr style=\"text-align: right;\">\n",
       "      <th></th>\n",
       "      <th>Dates</th>\n",
       "      <th>DayOfWeek</th>\n",
       "      <th>PdDistrict</th>\n",
       "      <th>Address</th>\n",
       "      <th>X</th>\n",
       "      <th>Y</th>\n",
       "    </tr>\n",
       "  </thead>\n",
       "  <tbody>\n",
       "    <tr>\n",
       "      <th>0</th>\n",
       "      <td>2015-05-13 23:53:00</td>\n",
       "      <td>Wednesday</td>\n",
       "      <td>NORTHERN</td>\n",
       "      <td>OAK ST / LAGUNA ST</td>\n",
       "      <td>-122.425892</td>\n",
       "      <td>37.774599</td>\n",
       "    </tr>\n",
       "    <tr>\n",
       "      <th>1</th>\n",
       "      <td>2015-05-13 23:53:00</td>\n",
       "      <td>Wednesday</td>\n",
       "      <td>NORTHERN</td>\n",
       "      <td>OAK ST / LAGUNA ST</td>\n",
       "      <td>-122.425892</td>\n",
       "      <td>37.774599</td>\n",
       "    </tr>\n",
       "    <tr>\n",
       "      <th>2</th>\n",
       "      <td>2015-05-13 23:33:00</td>\n",
       "      <td>Wednesday</td>\n",
       "      <td>NORTHERN</td>\n",
       "      <td>VANNESS AV / GREENWICH ST</td>\n",
       "      <td>-122.424363</td>\n",
       "      <td>37.800414</td>\n",
       "    </tr>\n",
       "    <tr>\n",
       "      <th>3</th>\n",
       "      <td>2015-05-13 23:30:00</td>\n",
       "      <td>Wednesday</td>\n",
       "      <td>NORTHERN</td>\n",
       "      <td>1500 Block of LOMBARD ST</td>\n",
       "      <td>-122.426995</td>\n",
       "      <td>37.800873</td>\n",
       "    </tr>\n",
       "    <tr>\n",
       "      <th>4</th>\n",
       "      <td>2015-05-13 23:30:00</td>\n",
       "      <td>Wednesday</td>\n",
       "      <td>PARK</td>\n",
       "      <td>100 Block of BRODERICK ST</td>\n",
       "      <td>-122.438738</td>\n",
       "      <td>37.771541</td>\n",
       "    </tr>\n",
       "  </tbody>\n",
       "</table>\n",
       "</div>"
      ],
      "text/plain": [
       "                Dates  DayOfWeek PdDistrict                    Address  \\\n",
       "0 2015-05-13 23:53:00  Wednesday   NORTHERN         OAK ST / LAGUNA ST   \n",
       "1 2015-05-13 23:53:00  Wednesday   NORTHERN         OAK ST / LAGUNA ST   \n",
       "2 2015-05-13 23:33:00  Wednesday   NORTHERN  VANNESS AV / GREENWICH ST   \n",
       "3 2015-05-13 23:30:00  Wednesday   NORTHERN   1500 Block of LOMBARD ST   \n",
       "4 2015-05-13 23:30:00  Wednesday       PARK  100 Block of BRODERICK ST   \n",
       "\n",
       "            X          Y  \n",
       "0 -122.425892  37.774599  \n",
       "1 -122.425892  37.774599  \n",
       "2 -122.424363  37.800414  \n",
       "3 -122.426995  37.800873  \n",
       "4 -122.438738  37.771541  "
      ]
     },
     "execution_count": 6,
     "metadata": {},
     "output_type": "execute_result"
    }
   ],
   "source": [
    "a = list(test)\n",
    "train_data = train[a]\n",
    "main = pd.concat([train_data, test])\n",
    "main.head(3)\n",
    "df = main.copy()\n",
    "df.head()"
   ]
  },
  {
   "cell_type": "markdown",
   "id": "8cf57912",
   "metadata": {
    "papermill": {
     "duration": 0.030562,
     "end_time": "2021-08-04T23:58:50.966994",
     "exception": false,
     "start_time": "2021-08-04T23:58:50.936432",
     "status": "completed"
    },
    "tags": []
   },
   "source": [
    "# > **Lets seperate the target Columnns**"
   ]
  },
  {
   "cell_type": "code",
   "execution_count": 7,
   "id": "f01c9355",
   "metadata": {
    "execution": {
     "iopub.execute_input": "2021-08-04T23:58:51.029090Z",
     "iopub.status.busy": "2021-08-04T23:58:51.028307Z",
     "iopub.status.idle": "2021-08-04T23:58:51.035572Z",
     "shell.execute_reply": "2021-08-04T23:58:51.036107Z",
     "shell.execute_reply.started": "2021-08-04T22:51:39.971091Z"
    },
    "papermill": {
     "duration": 0.040237,
     "end_time": "2021-08-04T23:58:51.036325",
     "exception": false,
     "start_time": "2021-08-04T23:58:50.996088",
     "status": "completed"
    },
    "tags": []
   },
   "outputs": [
    {
     "data": {
      "text/plain": [
       "0          WARRANTS\n",
       "1    OTHER OFFENSES\n",
       "2    OTHER OFFENSES\n",
       "3     LARCENY/THEFT\n",
       "4     LARCENY/THEFT\n",
       "Name: Category, dtype: object"
      ]
     },
     "execution_count": 7,
     "metadata": {},
     "output_type": "execute_result"
    }
   ],
   "source": [
    "tar = train['Category']\n",
    "tar.head()"
   ]
  },
  {
   "cell_type": "code",
   "execution_count": 8,
   "id": "34bdfe0d",
   "metadata": {
    "execution": {
     "iopub.execute_input": "2021-08-04T23:58:51.099793Z",
     "iopub.status.busy": "2021-08-04T23:58:51.099040Z",
     "iopub.status.idle": "2021-08-04T23:58:51.641627Z",
     "shell.execute_reply": "2021-08-04T23:58:51.642169Z",
     "shell.execute_reply.started": "2021-08-04T22:51:43.337166Z"
    },
    "papermill": {
     "duration": 0.57635,
     "end_time": "2021-08-04T23:58:51.642397",
     "exception": false,
     "start_time": "2021-08-04T23:58:51.066047",
     "status": "completed"
    },
    "tags": []
   },
   "outputs": [
    {
     "data": {
      "text/plain": [
       "Dates         0\n",
       "DayOfWeek     0\n",
       "PdDistrict    0\n",
       "Address       0\n",
       "X             0\n",
       "Y             0\n",
       "dtype: int64"
      ]
     },
     "execution_count": 8,
     "metadata": {},
     "output_type": "execute_result"
    }
   ],
   "source": [
    "df.isnull().sum()"
   ]
  },
  {
   "cell_type": "code",
   "execution_count": 9,
   "id": "1236816a",
   "metadata": {
    "execution": {
     "iopub.execute_input": "2021-08-04T23:58:51.709023Z",
     "iopub.status.busy": "2021-08-04T23:58:51.708286Z",
     "iopub.status.idle": "2021-08-04T23:58:52.242710Z",
     "shell.execute_reply": "2021-08-04T23:58:52.243271Z",
     "shell.execute_reply.started": "2021-08-04T22:51:47.162593Z"
    },
    "papermill": {
     "duration": 0.570671,
     "end_time": "2021-08-04T23:58:52.243469",
     "exception": false,
     "start_time": "2021-08-04T23:58:51.672798",
     "status": "completed"
    },
    "tags": []
   },
   "outputs": [
    {
     "name": "stdout",
     "output_type": "stream",
     "text": [
      "['ARSON' 'ASSAULT' 'BAD CHECKS' 'BRIBERY' 'BURGLARY' 'DISORDERLY CONDUCT'\n",
      " 'DRIVING UNDER THE INFLUENCE' 'DRUG/NARCOTIC' 'DRUNKENNESS'\n",
      " 'EMBEZZLEMENT' 'EXTORTION' 'FAMILY OFFENSES' 'FORGERY/COUNTERFEITING'\n",
      " 'FRAUD' 'GAMBLING' 'KIDNAPPING' 'LARCENY/THEFT' 'LIQUOR LAWS' 'LOITERING'\n",
      " 'MISSING PERSON' 'NON-CRIMINAL' 'OTHER OFFENSES'\n",
      " 'PORNOGRAPHY/OBSCENE MAT' 'PROSTITUTION' 'RECOVERED VEHICLE' 'ROBBERY'\n",
      " 'RUNAWAY' 'SECONDARY CODES' 'SEX OFFENSES FORCIBLE'\n",
      " 'SEX OFFENSES NON FORCIBLE' 'STOLEN PROPERTY' 'SUICIDE' 'SUSPICIOUS OCC'\n",
      " 'TREA' 'TRESPASS' 'VANDALISM' 'VEHICLE THEFT' 'WARRANTS' 'WEAPON LAWS']\n"
     ]
    },
    {
     "data": {
      "text/html": [
       "<div>\n",
       "<style scoped>\n",
       "    .dataframe tbody tr th:only-of-type {\n",
       "        vertical-align: middle;\n",
       "    }\n",
       "\n",
       "    .dataframe tbody tr th {\n",
       "        vertical-align: top;\n",
       "    }\n",
       "\n",
       "    .dataframe thead th {\n",
       "        text-align: right;\n",
       "    }\n",
       "</style>\n",
       "<table border=\"1\" class=\"dataframe\">\n",
       "  <thead>\n",
       "    <tr style=\"text-align: right;\">\n",
       "      <th></th>\n",
       "      <th>Category</th>\n",
       "    </tr>\n",
       "  </thead>\n",
       "  <tbody>\n",
       "    <tr>\n",
       "      <th>37</th>\n",
       "      <td>LARCENY/THEFT</td>\n",
       "    </tr>\n",
       "    <tr>\n",
       "      <th>21</th>\n",
       "      <td>ROBBERY</td>\n",
       "    </tr>\n",
       "    <tr>\n",
       "      <th>21</th>\n",
       "      <td>ROBBERY</td>\n",
       "    </tr>\n",
       "  </tbody>\n",
       "</table>\n",
       "</div>"
      ],
      "text/plain": [
       "         Category\n",
       "37  LARCENY/THEFT\n",
       "21        ROBBERY\n",
       "21        ROBBERY"
      ]
     },
     "execution_count": 9,
     "metadata": {},
     "output_type": "execute_result"
    }
   ],
   "source": [
    "from sklearn.preprocessing import LabelEncoder\n",
    "LB = LabelEncoder()\n",
    "target = LB.fit_transform(tar)\n",
    "print(LB.classes_)\n",
    "temp = pd.DataFrame(tar, target)\n",
    "temp.head(3)"
   ]
  },
  {
   "cell_type": "code",
   "execution_count": 10,
   "id": "18c62bff",
   "metadata": {
    "execution": {
     "iopub.execute_input": "2021-08-04T23:58:52.329295Z",
     "iopub.status.busy": "2021-08-04T23:58:52.328488Z",
     "iopub.status.idle": "2021-08-04T23:58:54.749130Z",
     "shell.execute_reply": "2021-08-04T23:58:54.748477Z",
     "shell.execute_reply.started": "2021-08-04T22:51:54.097949Z"
    },
    "papermill": {
     "duration": 2.474855,
     "end_time": "2021-08-04T23:58:54.749453",
     "exception": false,
     "start_time": "2021-08-04T23:58:52.274598",
     "status": "completed"
    },
    "tags": []
   },
   "outputs": [],
   "source": [
    "date = pd.to_datetime(main['Dates'])\n",
    "df['Date'] = date.dt.date\n",
    "df['Year'] = date.dt.year\n",
    "df['Month'] = date.dt.month\n",
    "df['Day'] = date.dt.day\n",
    "df['Hour'] = date.dt.hour\n",
    "df.drop('Dates', axis = 1, inplace = True)"
   ]
  },
  {
   "cell_type": "code",
   "execution_count": 11,
   "id": "35948a27",
   "metadata": {
    "execution": {
     "iopub.execute_input": "2021-08-04T23:58:54.827804Z",
     "iopub.status.busy": "2021-08-04T23:58:54.827028Z",
     "iopub.status.idle": "2021-08-04T23:58:54.830447Z",
     "shell.execute_reply": "2021-08-04T23:58:54.830981Z",
     "shell.execute_reply.started": "2021-08-04T22:52:00.438913Z"
    },
    "papermill": {
     "duration": 0.050889,
     "end_time": "2021-08-04T23:58:54.831181",
     "exception": false,
     "start_time": "2021-08-04T23:58:54.780292",
     "status": "completed"
    },
    "tags": []
   },
   "outputs": [
    {
     "data": {
      "text/html": [
       "<div>\n",
       "<style scoped>\n",
       "    .dataframe tbody tr th:only-of-type {\n",
       "        vertical-align: middle;\n",
       "    }\n",
       "\n",
       "    .dataframe tbody tr th {\n",
       "        vertical-align: top;\n",
       "    }\n",
       "\n",
       "    .dataframe thead th {\n",
       "        text-align: right;\n",
       "    }\n",
       "</style>\n",
       "<table border=\"1\" class=\"dataframe\">\n",
       "  <thead>\n",
       "    <tr style=\"text-align: right;\">\n",
       "      <th></th>\n",
       "      <th>DayOfWeek</th>\n",
       "      <th>PdDistrict</th>\n",
       "      <th>Address</th>\n",
       "      <th>X</th>\n",
       "      <th>Y</th>\n",
       "      <th>Date</th>\n",
       "      <th>Year</th>\n",
       "      <th>Month</th>\n",
       "      <th>Day</th>\n",
       "      <th>Hour</th>\n",
       "    </tr>\n",
       "  </thead>\n",
       "  <tbody>\n",
       "    <tr>\n",
       "      <th>0</th>\n",
       "      <td>Wednesday</td>\n",
       "      <td>NORTHERN</td>\n",
       "      <td>OAK ST / LAGUNA ST</td>\n",
       "      <td>-122.425892</td>\n",
       "      <td>37.774599</td>\n",
       "      <td>2015-05-13</td>\n",
       "      <td>2015</td>\n",
       "      <td>5</td>\n",
       "      <td>13</td>\n",
       "      <td>23</td>\n",
       "    </tr>\n",
       "    <tr>\n",
       "      <th>1</th>\n",
       "      <td>Wednesday</td>\n",
       "      <td>NORTHERN</td>\n",
       "      <td>OAK ST / LAGUNA ST</td>\n",
       "      <td>-122.425892</td>\n",
       "      <td>37.774599</td>\n",
       "      <td>2015-05-13</td>\n",
       "      <td>2015</td>\n",
       "      <td>5</td>\n",
       "      <td>13</td>\n",
       "      <td>23</td>\n",
       "    </tr>\n",
       "    <tr>\n",
       "      <th>2</th>\n",
       "      <td>Wednesday</td>\n",
       "      <td>NORTHERN</td>\n",
       "      <td>VANNESS AV / GREENWICH ST</td>\n",
       "      <td>-122.424363</td>\n",
       "      <td>37.800414</td>\n",
       "      <td>2015-05-13</td>\n",
       "      <td>2015</td>\n",
       "      <td>5</td>\n",
       "      <td>13</td>\n",
       "      <td>23</td>\n",
       "    </tr>\n",
       "  </tbody>\n",
       "</table>\n",
       "</div>"
      ],
      "text/plain": [
       "   DayOfWeek PdDistrict                    Address           X          Y  \\\n",
       "0  Wednesday   NORTHERN         OAK ST / LAGUNA ST -122.425892  37.774599   \n",
       "1  Wednesday   NORTHERN         OAK ST / LAGUNA ST -122.425892  37.774599   \n",
       "2  Wednesday   NORTHERN  VANNESS AV / GREENWICH ST -122.424363  37.800414   \n",
       "\n",
       "         Date  Year  Month  Day  Hour  \n",
       "0  2015-05-13  2015      5   13    23  \n",
       "1  2015-05-13  2015      5   13    23  \n",
       "2  2015-05-13  2015      5   13    23  "
      ]
     },
     "execution_count": 11,
     "metadata": {},
     "output_type": "execute_result"
    }
   ],
   "source": [
    "df.head(3)"
   ]
  },
  {
   "cell_type": "code",
   "execution_count": 12,
   "id": "387fd3b1",
   "metadata": {
    "execution": {
     "iopub.execute_input": "2021-08-04T23:58:54.899121Z",
     "iopub.status.busy": "2021-08-04T23:58:54.898312Z",
     "iopub.status.idle": "2021-08-04T23:58:56.040525Z",
     "shell.execute_reply": "2021-08-04T23:58:56.039625Z",
     "shell.execute_reply.started": "2021-08-04T22:52:04.249928Z"
    },
    "papermill": {
     "duration": 1.176858,
     "end_time": "2021-08-04T23:58:56.040772",
     "exception": false,
     "start_time": "2021-08-04T23:58:54.863914",
     "status": "completed"
    },
    "tags": []
   },
   "outputs": [],
   "source": [
    "date = df.groupby('Date').count().iloc[:, 0]"
   ]
  },
  {
   "cell_type": "code",
   "execution_count": 13,
   "id": "aa870858",
   "metadata": {
    "execution": {
     "iopub.execute_input": "2021-08-04T23:58:56.119008Z",
     "iopub.status.busy": "2021-08-04T23:58:56.115416Z",
     "iopub.status.idle": "2021-08-04T23:58:56.600501Z",
     "shell.execute_reply": "2021-08-04T23:58:56.599653Z",
     "shell.execute_reply.started": "2021-08-04T22:52:07.709038Z"
    },
    "papermill": {
     "duration": 0.52724,
     "end_time": "2021-08-04T23:58:56.600688",
     "exception": false,
     "start_time": "2021-08-04T23:58:56.073448",
     "status": "completed"
    },
    "tags": []
   },
   "outputs": [
    {
     "data": {
      "text/plain": [
       "Text(389.0, 0.005, 'Median389.0')"
      ]
     },
     "execution_count": 13,
     "metadata": {},
     "output_type": "execute_result"
    },
    {
     "data": {
      "image/png": "[encoded data removed]",
      "text/plain": [
       "<Figure size 432x288 with 1 Axes>"
      ]
     },
     "metadata": {
      "needs_background": "light"
     },
     "output_type": "display_data"
    }
   ],
   "source": [
    "sns.kdeplot(data = date, shade = True)\n",
    "plt.axvline(x = date.median(), ymax = 0.95, linestyle = '--')\n",
    "plt.annotate('Median' + str(date.median()), xy = (date.median(), 0.005))"
   ]
  },
  {
   "cell_type": "markdown",
   "id": "5c13e191",
   "metadata": {
    "papermill": {
     "duration": 0.034367,
     "end_time": "2021-08-04T23:58:56.668923",
     "exception": false,
     "start_time": "2021-08-04T23:58:56.634556",
     "status": "completed"
    },
    "tags": []
   },
   "source": [
    "The number of crimes per day has a normal distribution, with a median of 389."
   ]
  },
  {
   "cell_type": "code",
   "execution_count": 14,
   "id": "74712b5e",
   "metadata": {
    "execution": {
     "iopub.execute_input": "2021-08-04T23:58:56.876641Z",
     "iopub.status.busy": "2021-08-04T23:58:56.855241Z",
     "iopub.status.idle": "2021-08-04T23:58:57.910089Z",
     "shell.execute_reply": "2021-08-04T23:58:57.910668Z",
     "shell.execute_reply.started": "2021-08-04T22:52:30.397181Z"
    },
    "papermill": {
     "duration": 1.206606,
     "end_time": "2021-08-04T23:58:57.910898",
     "exception": false,
     "start_time": "2021-08-04T23:58:56.704292",
     "status": "completed"
    },
    "tags": []
   },
   "outputs": [
    {
     "name": "stderr",
     "output_type": "stream",
     "text": [
      "/opt/conda/lib/python3.7/site-packages/seaborn/_decorators.py:43: FutureWarning: Pass the following variable as a keyword arg: x. From version 0.12, the only valid positional argument will be `data`, and passing other arguments without an explicit keyword will result in an error or misinterpretation.\n",
      "  FutureWarning\n"
     ]
    },
    {
     "data": {
      "text/plain": [
       "<AxesSubplot:xlabel='PdDis', ylabel='count'>"
      ]
     },
     "execution_count": 14,
     "metadata": {},
     "output_type": "execute_result"
    },
    {
     "data": {
      "image/png": "[encoded data removed]",
      "text/plain": [
       "<Figure size 432x288 with 1 Axes>"
      ]
     },
     "metadata": {
      "needs_background": "light"
     },
     "output_type": "display_data"
    }
   ],
   "source": [
    "lb = LabelEncoder()\n",
    "df['PdDis'] = lb.fit_transform(df['PdDistrict'])\n",
    "sns.countplot(df['PdDis'])"
   ]
  },
  {
   "cell_type": "code",
   "execution_count": 15,
   "id": "75a197b8",
   "metadata": {
    "execution": {
     "iopub.execute_input": "2021-08-04T23:58:57.987160Z",
     "iopub.status.busy": "2021-08-04T23:58:57.985271Z",
     "iopub.status.idle": "2021-08-04T23:58:58.104098Z",
     "shell.execute_reply": "2021-08-04T23:58:58.103460Z",
     "shell.execute_reply.started": "2021-08-04T22:53:45.438212Z"
    },
    "papermill": {
     "duration": 0.159368,
     "end_time": "2021-08-04T23:58:58.104266",
     "exception": false,
     "start_time": "2021-08-04T23:58:57.944898",
     "status": "completed"
    },
    "tags": []
   },
   "outputs": [
    {
     "data": {
      "text/html": [
       "<div>\n",
       "<style scoped>\n",
       "    .dataframe tbody tr th:only-of-type {\n",
       "        vertical-align: middle;\n",
       "    }\n",
       "\n",
       "    .dataframe tbody tr th {\n",
       "        vertical-align: top;\n",
       "    }\n",
       "\n",
       "    .dataframe thead th {\n",
       "        text-align: right;\n",
       "    }\n",
       "</style>\n",
       "<table border=\"1\" class=\"dataframe\">\n",
       "  <thead>\n",
       "    <tr style=\"text-align: right;\">\n",
       "      <th></th>\n",
       "      <th>PdDistrict</th>\n",
       "      <th>PdDis</th>\n",
       "    </tr>\n",
       "  </thead>\n",
       "  <tbody>\n",
       "    <tr>\n",
       "      <th>0</th>\n",
       "      <td>NORTHERN</td>\n",
       "      <td>4</td>\n",
       "    </tr>\n",
       "    <tr>\n",
       "      <th>1</th>\n",
       "      <td>NORTHERN</td>\n",
       "      <td>4</td>\n",
       "    </tr>\n",
       "    <tr>\n",
       "      <th>2</th>\n",
       "      <td>NORTHERN</td>\n",
       "      <td>4</td>\n",
       "    </tr>\n",
       "    <tr>\n",
       "      <th>3</th>\n",
       "      <td>NORTHERN</td>\n",
       "      <td>4</td>\n",
       "    </tr>\n",
       "    <tr>\n",
       "      <th>4</th>\n",
       "      <td>PARK</td>\n",
       "      <td>5</td>\n",
       "    </tr>\n",
       "    <tr>\n",
       "      <th>5</th>\n",
       "      <td>INGLESIDE</td>\n",
       "      <td>2</td>\n",
       "    </tr>\n",
       "    <tr>\n",
       "      <th>6</th>\n",
       "      <td>INGLESIDE</td>\n",
       "      <td>2</td>\n",
       "    </tr>\n",
       "    <tr>\n",
       "      <th>7</th>\n",
       "      <td>BAYVIEW</td>\n",
       "      <td>0</td>\n",
       "    </tr>\n",
       "    <tr>\n",
       "      <th>8</th>\n",
       "      <td>RICHMOND</td>\n",
       "      <td>6</td>\n",
       "    </tr>\n",
       "    <tr>\n",
       "      <th>9</th>\n",
       "      <td>CENTRAL</td>\n",
       "      <td>1</td>\n",
       "    </tr>\n",
       "  </tbody>\n",
       "</table>\n",
       "</div>"
      ],
      "text/plain": [
       "  PdDistrict  PdDis\n",
       "0   NORTHERN      4\n",
       "1   NORTHERN      4\n",
       "2   NORTHERN      4\n",
       "3   NORTHERN      4\n",
       "4       PARK      5\n",
       "5  INGLESIDE      2\n",
       "6  INGLESIDE      2\n",
       "7    BAYVIEW      0\n",
       "8   RICHMOND      6\n",
       "9    CENTRAL      1"
      ]
     },
     "execution_count": 15,
     "metadata": {},
     "output_type": "execute_result"
    }
   ],
   "source": [
    "df[['PdDistrict', 'PdDis']].head(10)"
   ]
  },
  {
   "cell_type": "code",
   "execution_count": 16,
   "id": "b257fa0c",
   "metadata": {
    "execution": {
     "iopub.execute_input": "2021-08-04T23:58:58.265512Z",
     "iopub.status.busy": "2021-08-04T23:58:58.247488Z",
     "iopub.status.idle": "2021-08-04T23:58:58.322148Z",
     "shell.execute_reply": "2021-08-04T23:58:58.321239Z",
     "shell.execute_reply.started": "2021-08-04T22:55:01.636686Z"
    },
    "papermill": {
     "duration": 0.18349,
     "end_time": "2021-08-04T23:58:58.322350",
     "exception": false,
     "start_time": "2021-08-04T23:58:58.138860",
     "status": "completed"
    },
    "tags": []
   },
   "outputs": [],
   "source": [
    "df.drop('PdDistrict', axis = 1, inplace = True)"
   ]
  },
  {
   "cell_type": "code",
   "execution_count": 17,
   "id": "c325b835",
   "metadata": {
    "execution": {
     "iopub.execute_input": "2021-08-04T23:58:58.414886Z",
     "iopub.status.busy": "2021-08-04T23:58:58.413747Z",
     "iopub.status.idle": "2021-08-04T23:58:58.418848Z",
     "shell.execute_reply": "2021-08-04T23:58:58.418225Z",
     "shell.execute_reply.started": "2021-08-04T22:55:19.342989Z"
    },
    "papermill": {
     "duration": 0.060039,
     "end_time": "2021-08-04T23:58:58.419011",
     "exception": false,
     "start_time": "2021-08-04T23:58:58.358972",
     "status": "completed"
    },
    "tags": []
   },
   "outputs": [
    {
     "data": {
      "text/html": [
       "<div>\n",
       "<style scoped>\n",
       "    .dataframe tbody tr th:only-of-type {\n",
       "        vertical-align: middle;\n",
       "    }\n",
       "\n",
       "    .dataframe tbody tr th {\n",
       "        vertical-align: top;\n",
       "    }\n",
       "\n",
       "    .dataframe thead th {\n",
       "        text-align: right;\n",
       "    }\n",
       "</style>\n",
       "<table border=\"1\" class=\"dataframe\">\n",
       "  <thead>\n",
       "    <tr style=\"text-align: right;\">\n",
       "      <th></th>\n",
       "      <th>DayOfWeek</th>\n",
       "      <th>Address</th>\n",
       "      <th>X</th>\n",
       "      <th>Y</th>\n",
       "      <th>Date</th>\n",
       "      <th>Year</th>\n",
       "      <th>Month</th>\n",
       "      <th>Day</th>\n",
       "      <th>Hour</th>\n",
       "      <th>PdDis</th>\n",
       "    </tr>\n",
       "  </thead>\n",
       "  <tbody>\n",
       "    <tr>\n",
       "      <th>0</th>\n",
       "      <td>Wednesday</td>\n",
       "      <td>OAK ST / LAGUNA ST</td>\n",
       "      <td>-122.425892</td>\n",
       "      <td>37.774599</td>\n",
       "      <td>2015-05-13</td>\n",
       "      <td>2015</td>\n",
       "      <td>5</td>\n",
       "      <td>13</td>\n",
       "      <td>23</td>\n",
       "      <td>4</td>\n",
       "    </tr>\n",
       "    <tr>\n",
       "      <th>1</th>\n",
       "      <td>Wednesday</td>\n",
       "      <td>OAK ST / LAGUNA ST</td>\n",
       "      <td>-122.425892</td>\n",
       "      <td>37.774599</td>\n",
       "      <td>2015-05-13</td>\n",
       "      <td>2015</td>\n",
       "      <td>5</td>\n",
       "      <td>13</td>\n",
       "      <td>23</td>\n",
       "      <td>4</td>\n",
       "    </tr>\n",
       "    <tr>\n",
       "      <th>2</th>\n",
       "      <td>Wednesday</td>\n",
       "      <td>VANNESS AV / GREENWICH ST</td>\n",
       "      <td>-122.424363</td>\n",
       "      <td>37.800414</td>\n",
       "      <td>2015-05-13</td>\n",
       "      <td>2015</td>\n",
       "      <td>5</td>\n",
       "      <td>13</td>\n",
       "      <td>23</td>\n",
       "      <td>4</td>\n",
       "    </tr>\n",
       "  </tbody>\n",
       "</table>\n",
       "</div>"
      ],
      "text/plain": [
       "   DayOfWeek                    Address           X          Y        Date  \\\n",
       "0  Wednesday         OAK ST / LAGUNA ST -122.425892  37.774599  2015-05-13   \n",
       "1  Wednesday         OAK ST / LAGUNA ST -122.425892  37.774599  2015-05-13   \n",
       "2  Wednesday  VANNESS AV / GREENWICH ST -122.424363  37.800414  2015-05-13   \n",
       "\n",
       "   Year  Month  Day  Hour  PdDis  \n",
       "0  2015      5   13    23      4  \n",
       "1  2015      5   13    23      4  \n",
       "2  2015      5   13    23      4  "
      ]
     },
     "execution_count": 17,
     "metadata": {},
     "output_type": "execute_result"
    }
   ],
   "source": [
    "df.head(3)"
   ]
  },
  {
   "cell_type": "code",
   "execution_count": 18,
   "id": "3fa248fa",
   "metadata": {
    "execution": {
     "iopub.execute_input": "2021-08-04T23:58:58.605297Z",
     "iopub.status.busy": "2021-08-04T23:58:58.600115Z",
     "iopub.status.idle": "2021-08-04T23:58:59.272613Z",
     "shell.execute_reply": "2021-08-04T23:58:59.272035Z",
     "shell.execute_reply.started": "2021-08-04T22:58:06.173022Z"
    },
    "papermill": {
     "duration": 0.818366,
     "end_time": "2021-08-04T23:58:59.272811",
     "exception": false,
     "start_time": "2021-08-04T23:58:58.454445",
     "status": "completed"
    },
    "tags": []
   },
   "outputs": [
    {
     "data": {
      "text/html": [
       "<div>\n",
       "<style scoped>\n",
       "    .dataframe tbody tr th:only-of-type {\n",
       "        vertical-align: middle;\n",
       "    }\n",
       "\n",
       "    .dataframe tbody tr th {\n",
       "        vertical-align: top;\n",
       "    }\n",
       "\n",
       "    .dataframe thead th {\n",
       "        text-align: right;\n",
       "    }\n",
       "</style>\n",
       "<table border=\"1\" class=\"dataframe\">\n",
       "  <thead>\n",
       "    <tr style=\"text-align: right;\">\n",
       "      <th></th>\n",
       "      <th>DayOfWeek</th>\n",
       "      <th>DayWeek</th>\n",
       "    </tr>\n",
       "  </thead>\n",
       "  <tbody>\n",
       "    <tr>\n",
       "      <th>0</th>\n",
       "      <td>Wednesday</td>\n",
       "      <td>6</td>\n",
       "    </tr>\n",
       "    <tr>\n",
       "      <th>1</th>\n",
       "      <td>Wednesday</td>\n",
       "      <td>6</td>\n",
       "    </tr>\n",
       "    <tr>\n",
       "      <th>2</th>\n",
       "      <td>Wednesday</td>\n",
       "      <td>6</td>\n",
       "    </tr>\n",
       "    <tr>\n",
       "      <th>3</th>\n",
       "      <td>Wednesday</td>\n",
       "      <td>6</td>\n",
       "    </tr>\n",
       "    <tr>\n",
       "      <th>4</th>\n",
       "      <td>Wednesday</td>\n",
       "      <td>6</td>\n",
       "    </tr>\n",
       "    <tr>\n",
       "      <th>5</th>\n",
       "      <td>Wednesday</td>\n",
       "      <td>6</td>\n",
       "    </tr>\n",
       "    <tr>\n",
       "      <th>6</th>\n",
       "      <td>Wednesday</td>\n",
       "      <td>6</td>\n",
       "    </tr>\n",
       "    <tr>\n",
       "      <th>7</th>\n",
       "      <td>Wednesday</td>\n",
       "      <td>6</td>\n",
       "    </tr>\n",
       "    <tr>\n",
       "      <th>8</th>\n",
       "      <td>Wednesday</td>\n",
       "      <td>6</td>\n",
       "    </tr>\n",
       "    <tr>\n",
       "      <th>9</th>\n",
       "      <td>Wednesday</td>\n",
       "      <td>6</td>\n",
       "    </tr>\n",
       "  </tbody>\n",
       "</table>\n",
       "</div>"
      ],
      "text/plain": [
       "   DayOfWeek  DayWeek\n",
       "0  Wednesday        6\n",
       "1  Wednesday        6\n",
       "2  Wednesday        6\n",
       "3  Wednesday        6\n",
       "4  Wednesday        6\n",
       "5  Wednesday        6\n",
       "6  Wednesday        6\n",
       "7  Wednesday        6\n",
       "8  Wednesday        6\n",
       "9  Wednesday        6"
      ]
     },
     "execution_count": 18,
     "metadata": {},
     "output_type": "execute_result"
    }
   ],
   "source": [
    "df['DayWeek'] = lb.fit_transform(df['DayOfWeek'])\n",
    "df[['DayOfWeek', 'DayWeek']].head(10)"
   ]
  },
  {
   "cell_type": "code",
   "execution_count": 19,
   "id": "d9b7e048",
   "metadata": {
    "execution": {
     "iopub.execute_input": "2021-08-04T23:58:59.352068Z",
     "iopub.status.busy": "2021-08-04T23:58:59.351254Z",
     "iopub.status.idle": "2021-08-04T23:58:59.478157Z",
     "shell.execute_reply": "2021-08-04T23:58:59.477371Z",
     "shell.execute_reply.started": "2021-08-04T22:58:54.412918Z"
    },
    "papermill": {
     "duration": 0.168995,
     "end_time": "2021-08-04T23:58:59.478317",
     "exception": false,
     "start_time": "2021-08-04T23:58:59.309322",
     "status": "completed"
    },
    "tags": []
   },
   "outputs": [],
   "source": [
    "df.drop('DayOfWeek', axis = 1, inplace = True)"
   ]
  },
  {
   "cell_type": "code",
   "execution_count": 20,
   "id": "6c7778a4",
   "metadata": {
    "execution": {
     "iopub.execute_input": "2021-08-04T23:58:59.571420Z",
     "iopub.status.busy": "2021-08-04T23:58:59.570664Z",
     "iopub.status.idle": "2021-08-04T23:58:59.574752Z",
     "shell.execute_reply": "2021-08-04T23:58:59.575227Z",
     "shell.execute_reply.started": "2021-08-04T22:59:10.050171Z"
    },
    "papermill": {
     "duration": 0.058624,
     "end_time": "2021-08-04T23:58:59.575441",
     "exception": false,
     "start_time": "2021-08-04T23:58:59.516817",
     "status": "completed"
    },
    "tags": []
   },
   "outputs": [
    {
     "data": {
      "text/html": [
       "<div>\n",
       "<style scoped>\n",
       "    .dataframe tbody tr th:only-of-type {\n",
       "        vertical-align: middle;\n",
       "    }\n",
       "\n",
       "    .dataframe tbody tr th {\n",
       "        vertical-align: top;\n",
       "    }\n",
       "\n",
       "    .dataframe thead th {\n",
       "        text-align: right;\n",
       "    }\n",
       "</style>\n",
       "<table border=\"1\" class=\"dataframe\">\n",
       "  <thead>\n",
       "    <tr style=\"text-align: right;\">\n",
       "      <th></th>\n",
       "      <th>Address</th>\n",
       "      <th>X</th>\n",
       "      <th>Y</th>\n",
       "      <th>Date</th>\n",
       "      <th>Year</th>\n",
       "      <th>Month</th>\n",
       "      <th>Day</th>\n",
       "      <th>Hour</th>\n",
       "      <th>PdDis</th>\n",
       "      <th>DayWeek</th>\n",
       "    </tr>\n",
       "  </thead>\n",
       "  <tbody>\n",
       "    <tr>\n",
       "      <th>0</th>\n",
       "      <td>OAK ST / LAGUNA ST</td>\n",
       "      <td>-122.425892</td>\n",
       "      <td>37.774599</td>\n",
       "      <td>2015-05-13</td>\n",
       "      <td>2015</td>\n",
       "      <td>5</td>\n",
       "      <td>13</td>\n",
       "      <td>23</td>\n",
       "      <td>4</td>\n",
       "      <td>6</td>\n",
       "    </tr>\n",
       "    <tr>\n",
       "      <th>1</th>\n",
       "      <td>OAK ST / LAGUNA ST</td>\n",
       "      <td>-122.425892</td>\n",
       "      <td>37.774599</td>\n",
       "      <td>2015-05-13</td>\n",
       "      <td>2015</td>\n",
       "      <td>5</td>\n",
       "      <td>13</td>\n",
       "      <td>23</td>\n",
       "      <td>4</td>\n",
       "      <td>6</td>\n",
       "    </tr>\n",
       "    <tr>\n",
       "      <th>2</th>\n",
       "      <td>VANNESS AV / GREENWICH ST</td>\n",
       "      <td>-122.424363</td>\n",
       "      <td>37.800414</td>\n",
       "      <td>2015-05-13</td>\n",
       "      <td>2015</td>\n",
       "      <td>5</td>\n",
       "      <td>13</td>\n",
       "      <td>23</td>\n",
       "      <td>4</td>\n",
       "      <td>6</td>\n",
       "    </tr>\n",
       "  </tbody>\n",
       "</table>\n",
       "</div>"
      ],
      "text/plain": [
       "                     Address           X          Y        Date  Year  Month  \\\n",
       "0         OAK ST / LAGUNA ST -122.425892  37.774599  2015-05-13  2015      5   \n",
       "1         OAK ST / LAGUNA ST -122.425892  37.774599  2015-05-13  2015      5   \n",
       "2  VANNESS AV / GREENWICH ST -122.424363  37.800414  2015-05-13  2015      5   \n",
       "\n",
       "   Day  Hour  PdDis  DayWeek  \n",
       "0   13    23      4        6  \n",
       "1   13    23      4        6  \n",
       "2   13    23      4        6  "
      ]
     },
     "execution_count": 20,
     "metadata": {},
     "output_type": "execute_result"
    }
   ],
   "source": [
    "df.head(3)"
   ]
  },
  {
   "cell_type": "code",
   "execution_count": 21,
   "id": "c79ba816",
   "metadata": {
    "execution": {
     "iopub.execute_input": "2021-08-04T23:58:59.834952Z",
     "iopub.status.busy": "2021-08-04T23:58:59.833709Z",
     "iopub.status.idle": "2021-08-04T23:59:04.524422Z",
     "shell.execute_reply": "2021-08-04T23:59:04.523763Z",
     "shell.execute_reply.started": "2021-08-04T23:06:44.966181Z"
    },
    "papermill": {
     "duration": 4.910971,
     "end_time": "2021-08-04T23:59:04.524591",
     "exception": false,
     "start_time": "2021-08-04T23:58:59.613620",
     "status": "completed"
    },
    "tags": []
   },
   "outputs": [],
   "source": [
    "df['Block'] = df['Address'].str.contains('block', case = False)\n",
    "df['ST'] = df['Address'].str.contains('ST', case = False)\n",
    "df.drop('Address', axis = 1, inplace = True)"
   ]
  },
  {
   "cell_type": "code",
   "execution_count": 22,
   "id": "a923d1fd",
   "metadata": {
    "execution": {
     "iopub.execute_input": "2021-08-04T23:59:04.604837Z",
     "iopub.status.busy": "2021-08-04T23:59:04.603448Z",
     "iopub.status.idle": "2021-08-04T23:59:04.795962Z",
     "shell.execute_reply": "2021-08-04T23:59:04.795242Z",
     "shell.execute_reply.started": "2021-08-04T23:06:36.509817Z"
    },
    "papermill": {
     "duration": 0.23469,
     "end_time": "2021-08-04T23:59:04.796140",
     "exception": false,
     "start_time": "2021-08-04T23:59:04.561450",
     "status": "completed"
    },
    "tags": []
   },
   "outputs": [],
   "source": [
    "df['Block'] = lb.fit_transform(df['Block'])\n",
    "df['ST'] = lb.fit_transform(df['ST'])"
   ]
  },
  {
   "cell_type": "code",
   "execution_count": 23,
   "id": "8b14c4ed",
   "metadata": {
    "execution": {
     "iopub.execute_input": "2021-08-04T23:59:04.884465Z",
     "iopub.status.busy": "2021-08-04T23:59:04.883469Z",
     "iopub.status.idle": "2021-08-04T23:59:04.888773Z",
     "shell.execute_reply": "2021-08-04T23:59:04.888074Z",
     "shell.execute_reply.started": "2021-08-04T23:06:55.243995Z"
    },
    "papermill": {
     "duration": 0.056766,
     "end_time": "2021-08-04T23:59:04.888931",
     "exception": false,
     "start_time": "2021-08-04T23:59:04.832165",
     "status": "completed"
    },
    "tags": []
   },
   "outputs": [
    {
     "data": {
      "text/html": [
       "<div>\n",
       "<style scoped>\n",
       "    .dataframe tbody tr th:only-of-type {\n",
       "        vertical-align: middle;\n",
       "    }\n",
       "\n",
       "    .dataframe tbody tr th {\n",
       "        vertical-align: top;\n",
       "    }\n",
       "\n",
       "    .dataframe thead th {\n",
       "        text-align: right;\n",
       "    }\n",
       "</style>\n",
       "<table border=\"1\" class=\"dataframe\">\n",
       "  <thead>\n",
       "    <tr style=\"text-align: right;\">\n",
       "      <th></th>\n",
       "      <th>X</th>\n",
       "      <th>Y</th>\n",
       "      <th>Date</th>\n",
       "      <th>Year</th>\n",
       "      <th>Month</th>\n",
       "      <th>Day</th>\n",
       "      <th>Hour</th>\n",
       "      <th>PdDis</th>\n",
       "      <th>DayWeek</th>\n",
       "      <th>Block</th>\n",
       "      <th>ST</th>\n",
       "    </tr>\n",
       "  </thead>\n",
       "  <tbody>\n",
       "    <tr>\n",
       "      <th>0</th>\n",
       "      <td>-122.425892</td>\n",
       "      <td>37.774599</td>\n",
       "      <td>2015-05-13</td>\n",
       "      <td>2015</td>\n",
       "      <td>5</td>\n",
       "      <td>13</td>\n",
       "      <td>23</td>\n",
       "      <td>4</td>\n",
       "      <td>6</td>\n",
       "      <td>0</td>\n",
       "      <td>1</td>\n",
       "    </tr>\n",
       "    <tr>\n",
       "      <th>1</th>\n",
       "      <td>-122.425892</td>\n",
       "      <td>37.774599</td>\n",
       "      <td>2015-05-13</td>\n",
       "      <td>2015</td>\n",
       "      <td>5</td>\n",
       "      <td>13</td>\n",
       "      <td>23</td>\n",
       "      <td>4</td>\n",
       "      <td>6</td>\n",
       "      <td>0</td>\n",
       "      <td>1</td>\n",
       "    </tr>\n",
       "    <tr>\n",
       "      <th>2</th>\n",
       "      <td>-122.424363</td>\n",
       "      <td>37.800414</td>\n",
       "      <td>2015-05-13</td>\n",
       "      <td>2015</td>\n",
       "      <td>5</td>\n",
       "      <td>13</td>\n",
       "      <td>23</td>\n",
       "      <td>4</td>\n",
       "      <td>6</td>\n",
       "      <td>0</td>\n",
       "      <td>1</td>\n",
       "    </tr>\n",
       "    <tr>\n",
       "      <th>3</th>\n",
       "      <td>-122.426995</td>\n",
       "      <td>37.800873</td>\n",
       "      <td>2015-05-13</td>\n",
       "      <td>2015</td>\n",
       "      <td>5</td>\n",
       "      <td>13</td>\n",
       "      <td>23</td>\n",
       "      <td>4</td>\n",
       "      <td>6</td>\n",
       "      <td>1</td>\n",
       "      <td>1</td>\n",
       "    </tr>\n",
       "    <tr>\n",
       "      <th>4</th>\n",
       "      <td>-122.438738</td>\n",
       "      <td>37.771541</td>\n",
       "      <td>2015-05-13</td>\n",
       "      <td>2015</td>\n",
       "      <td>5</td>\n",
       "      <td>13</td>\n",
       "      <td>23</td>\n",
       "      <td>5</td>\n",
       "      <td>6</td>\n",
       "      <td>1</td>\n",
       "      <td>1</td>\n",
       "    </tr>\n",
       "  </tbody>\n",
       "</table>\n",
       "</div>"
      ],
      "text/plain": [
       "            X          Y        Date  Year  Month  Day  Hour  PdDis  DayWeek  \\\n",
       "0 -122.425892  37.774599  2015-05-13  2015      5   13    23      4        6   \n",
       "1 -122.425892  37.774599  2015-05-13  2015      5   13    23      4        6   \n",
       "2 -122.424363  37.800414  2015-05-13  2015      5   13    23      4        6   \n",
       "3 -122.426995  37.800873  2015-05-13  2015      5   13    23      4        6   \n",
       "4 -122.438738  37.771541  2015-05-13  2015      5   13    23      5        6   \n",
       "\n",
       "   Block  ST  \n",
       "0      0   1  \n",
       "1      0   1  \n",
       "2      0   1  \n",
       "3      1   1  \n",
       "4      1   1  "
      ]
     },
     "execution_count": 23,
     "metadata": {},
     "output_type": "execute_result"
    }
   ],
   "source": [
    "df.head()"
   ]
  },
  {
   "cell_type": "code",
   "execution_count": 24,
   "id": "650a3ce4",
   "metadata": {
    "execution": {
     "iopub.execute_input": "2021-08-04T23:59:04.969901Z",
     "iopub.status.busy": "2021-08-04T23:59:04.968537Z",
     "iopub.status.idle": "2021-08-04T23:59:04.986214Z",
     "shell.execute_reply": "2021-08-04T23:59:04.985457Z",
     "shell.execute_reply.started": "2021-08-04T23:09:25.195194Z"
    },
    "papermill": {
     "duration": 0.060558,
     "end_time": "2021-08-04T23:59:04.986380",
     "exception": false,
     "start_time": "2021-08-04T23:59:04.925822",
     "status": "completed"
    },
    "tags": []
   },
   "outputs": [
    {
     "name": "stdout",
     "output_type": "stream",
     "text": [
      "-122.51364206429 -120.5\n",
      "37.7078790224135 90.0\n"
     ]
    }
   ],
   "source": [
    "print(df['X'].min(), df['X'].max())\n",
    "print(df['Y'].min(), df['Y'].max())"
   ]
  },
  {
   "cell_type": "code",
   "execution_count": 25,
   "id": "1b57bf94",
   "metadata": {
    "execution": {
     "iopub.execute_input": "2021-08-04T23:59:05.068352Z",
     "iopub.status.busy": "2021-08-04T23:59:05.067500Z",
     "iopub.status.idle": "2021-08-04T23:59:05.673141Z",
     "shell.execute_reply": "2021-08-04T23:59:05.672365Z",
     "shell.execute_reply.started": "2021-08-04T23:13:53.670815Z"
    },
    "papermill": {
     "duration": 0.650756,
     "end_time": "2021-08-04T23:59:05.673317",
     "exception": false,
     "start_time": "2021-08-04T23:59:05.022561",
     "status": "completed"
    },
    "tags": []
   },
   "outputs": [],
   "source": [
    "medX = df[df['X'] < -120.5]['X'].median()\n",
    "medY = df[df['Y'] < 90]['Y'].median()\n",
    "df.loc[df['X'] >= -120.5, 'X'] = medX\n",
    "df.loc[df['Y'] >= 90, 'Y'] = medY"
   ]
  },
  {
   "cell_type": "code",
   "execution_count": 26,
   "id": "86d8540e",
   "metadata": {
    "execution": {
     "iopub.execute_input": "2021-08-04T23:59:05.757247Z",
     "iopub.status.busy": "2021-08-04T23:59:05.754742Z",
     "iopub.status.idle": "2021-08-04T23:59:05.777709Z",
     "shell.execute_reply": "2021-08-04T23:59:05.776878Z",
     "shell.execute_reply.started": "2021-08-04T23:17:05.072872Z"
    },
    "papermill": {
     "duration": 0.068549,
     "end_time": "2021-08-04T23:59:05.777912",
     "exception": false,
     "start_time": "2021-08-04T23:59:05.709363",
     "status": "completed"
    },
    "tags": []
   },
   "outputs": [],
   "source": [
    "df['X+Y'] = df['X'] + df['Y']\n",
    "df['X-Y'] = df['X'] - df['Y']"
   ]
  },
  {
   "cell_type": "code",
   "execution_count": 27,
   "id": "677a544e",
   "metadata": {
    "execution": {
     "iopub.execute_input": "2021-08-04T23:59:05.858469Z",
     "iopub.status.busy": "2021-08-04T23:59:05.857655Z",
     "iopub.status.idle": "2021-08-04T23:59:06.034271Z",
     "shell.execute_reply": "2021-08-04T23:59:06.033600Z",
     "shell.execute_reply.started": "2021-08-04T23:17:28.846525Z"
    },
    "papermill": {
     "duration": 0.220095,
     "end_time": "2021-08-04T23:59:06.034458",
     "exception": false,
     "start_time": "2021-08-04T23:59:05.814363",
     "status": "completed"
    },
    "tags": []
   },
   "outputs": [],
   "source": [
    "df.drop('Date', axis = 1, inplace = True)"
   ]
  },
  {
   "cell_type": "code",
   "execution_count": 28,
   "id": "f1033df9",
   "metadata": {
    "execution": {
     "iopub.execute_input": "2021-08-04T23:59:06.127008Z",
     "iopub.status.busy": "2021-08-04T23:59:06.125959Z",
     "iopub.status.idle": "2021-08-04T23:59:06.130637Z",
     "shell.execute_reply": "2021-08-04T23:59:06.131126Z",
     "shell.execute_reply.started": "2021-08-04T23:19:27.810048Z"
    },
    "papermill": {
     "duration": 0.059437,
     "end_time": "2021-08-04T23:59:06.131347",
     "exception": false,
     "start_time": "2021-08-04T23:59:06.071910",
     "status": "completed"
    },
    "tags": []
   },
   "outputs": [
    {
     "data": {
      "text/html": [
       "<div>\n",
       "<style scoped>\n",
       "    .dataframe tbody tr th:only-of-type {\n",
       "        vertical-align: middle;\n",
       "    }\n",
       "\n",
       "    .dataframe tbody tr th {\n",
       "        vertical-align: top;\n",
       "    }\n",
       "\n",
       "    .dataframe thead th {\n",
       "        text-align: right;\n",
       "    }\n",
       "</style>\n",
       "<table border=\"1\" class=\"dataframe\">\n",
       "  <thead>\n",
       "    <tr style=\"text-align: right;\">\n",
       "      <th></th>\n",
       "      <th>X</th>\n",
       "      <th>Y</th>\n",
       "      <th>Year</th>\n",
       "      <th>Month</th>\n",
       "      <th>Day</th>\n",
       "      <th>Hour</th>\n",
       "      <th>PdDis</th>\n",
       "      <th>DayWeek</th>\n",
       "      <th>Block</th>\n",
       "      <th>ST</th>\n",
       "      <th>X+Y</th>\n",
       "      <th>X-Y</th>\n",
       "    </tr>\n",
       "  </thead>\n",
       "  <tbody>\n",
       "    <tr>\n",
       "      <th>0</th>\n",
       "      <td>-122.425892</td>\n",
       "      <td>37.774599</td>\n",
       "      <td>2015</td>\n",
       "      <td>5</td>\n",
       "      <td>13</td>\n",
       "      <td>23</td>\n",
       "      <td>4</td>\n",
       "      <td>6</td>\n",
       "      <td>0</td>\n",
       "      <td>1</td>\n",
       "      <td>-84.651293</td>\n",
       "      <td>-160.200490</td>\n",
       "    </tr>\n",
       "    <tr>\n",
       "      <th>1</th>\n",
       "      <td>-122.425892</td>\n",
       "      <td>37.774599</td>\n",
       "      <td>2015</td>\n",
       "      <td>5</td>\n",
       "      <td>13</td>\n",
       "      <td>23</td>\n",
       "      <td>4</td>\n",
       "      <td>6</td>\n",
       "      <td>0</td>\n",
       "      <td>1</td>\n",
       "      <td>-84.651293</td>\n",
       "      <td>-160.200490</td>\n",
       "    </tr>\n",
       "    <tr>\n",
       "      <th>2</th>\n",
       "      <td>-122.424363</td>\n",
       "      <td>37.800414</td>\n",
       "      <td>2015</td>\n",
       "      <td>5</td>\n",
       "      <td>13</td>\n",
       "      <td>23</td>\n",
       "      <td>4</td>\n",
       "      <td>6</td>\n",
       "      <td>0</td>\n",
       "      <td>1</td>\n",
       "      <td>-84.623949</td>\n",
       "      <td>-160.224777</td>\n",
       "    </tr>\n",
       "    <tr>\n",
       "      <th>3</th>\n",
       "      <td>-122.426995</td>\n",
       "      <td>37.800873</td>\n",
       "      <td>2015</td>\n",
       "      <td>5</td>\n",
       "      <td>13</td>\n",
       "      <td>23</td>\n",
       "      <td>4</td>\n",
       "      <td>6</td>\n",
       "      <td>1</td>\n",
       "      <td>1</td>\n",
       "      <td>-84.626123</td>\n",
       "      <td>-160.227868</td>\n",
       "    </tr>\n",
       "    <tr>\n",
       "      <th>4</th>\n",
       "      <td>-122.438738</td>\n",
       "      <td>37.771541</td>\n",
       "      <td>2015</td>\n",
       "      <td>5</td>\n",
       "      <td>13</td>\n",
       "      <td>23</td>\n",
       "      <td>5</td>\n",
       "      <td>6</td>\n",
       "      <td>1</td>\n",
       "      <td>1</td>\n",
       "      <td>-84.667196</td>\n",
       "      <td>-160.210279</td>\n",
       "    </tr>\n",
       "  </tbody>\n",
       "</table>\n",
       "</div>"
      ],
      "text/plain": [
       "            X          Y  Year  Month  Day  Hour  PdDis  DayWeek  Block  ST  \\\n",
       "0 -122.425892  37.774599  2015      5   13    23      4        6      0   1   \n",
       "1 -122.425892  37.774599  2015      5   13    23      4        6      0   1   \n",
       "2 -122.424363  37.800414  2015      5   13    23      4        6      0   1   \n",
       "3 -122.426995  37.800873  2015      5   13    23      4        6      1   1   \n",
       "4 -122.438738  37.771541  2015      5   13    23      5        6      1   1   \n",
       "\n",
       "         X+Y         X-Y  \n",
       "0 -84.651293 -160.200490  \n",
       "1 -84.651293 -160.200490  \n",
       "2 -84.623949 -160.224777  \n",
       "3 -84.626123 -160.227868  \n",
       "4 -84.667196 -160.210279  "
      ]
     },
     "execution_count": 28,
     "metadata": {},
     "output_type": "execute_result"
    }
   ],
   "source": [
    "data_train = df[:train.shape[0]]\n",
    "data_test = df[train.shape[0]:]\n",
    "data_train.head()"
   ]
  },
  {
   "cell_type": "code",
   "execution_count": 29,
   "id": "63eff132",
   "metadata": {
    "execution": {
     "iopub.execute_input": "2021-08-04T23:59:06.214442Z",
     "iopub.status.busy": "2021-08-04T23:59:06.213653Z",
     "iopub.status.idle": "2021-08-05T00:02:15.975427Z",
     "shell.execute_reply": "2021-08-05T00:02:15.974787Z",
     "shell.execute_reply.started": "2021-08-04T23:26:00.743781Z"
    },
    "papermill": {
     "duration": 189.806411,
     "end_time": "2021-08-05T00:02:15.975807",
     "exception": false,
     "start_time": "2021-08-04T23:59:06.169396",
     "status": "completed"
    },
    "tags": []
   },
   "outputs": [
    {
     "data": {
      "text/html": [
       "<style type='text/css'>\n",
       ".datatable table.frame { margin-bottom: 0; }\n",
       ".datatable table.frame thead { border-bottom: none; }\n",
       ".datatable table.frame tr.coltypes td {  color: #FFFFFF;  line-height: 6px;  padding: 0 0.5em;}\n",
       ".datatable .bool    { background: #DDDD99; }\n",
       ".datatable .object  { background: #565656; }\n",
       ".datatable .int     { background: #5D9E5D; }\n",
       ".datatable .float   { background: #4040CC; }\n",
       ".datatable .str     { background: #CC4040; }\n",
       ".datatable .time    { background: #40CC40; }\n",
       ".datatable .row_index {  background: var(--jp-border-color3);  border-right: 1px solid var(--jp-border-color0);  color: var(--jp-ui-font-color3);  font-size: 9px;}\n",
       ".datatable .frame tbody td { text-align: left; }\n",
       ".datatable .frame tr.coltypes .row_index {  background: var(--jp-border-color0);}\n",
       ".datatable th:nth-child(2) { padding-left: 12px; }\n",
       ".datatable .hellipsis {  color: var(--jp-cell-editor-border-color);}\n",
       ".datatable .vellipsis {  background: var(--jp-layout-color0);  color: var(--jp-cell-editor-border-color);}\n",
       ".datatable .na {  color: var(--jp-cell-editor-border-color);  font-size: 80%;}\n",
       ".datatable .sp {  opacity: 0.25;}\n",
       ".datatable .footer { font-size: 9px; }\n",
       ".datatable .frame_dimensions {  background: var(--jp-border-color3);  border-top: 1px solid var(--jp-border-color0);  color: var(--jp-ui-font-color3);  display: inline-block;  opacity: 0.6;  padding: 1px 10px 1px 5px;}\n",
       "</style>\n"
      ],
      "text/plain": [
       "<IPython.core.display.HTML object>"
      ]
     },
     "metadata": {},
     "output_type": "display_data"
    },
    {
     "name": "stderr",
     "output_type": "stream",
     "text": [
      "/opt/conda/lib/python3.7/site-packages/lightgbm/basic.py:1702: UserWarning: Using categorical_feature in Dataset.\n",
      "  _log_warning('Using categorical_feature in Dataset.')\n"
     ]
    },
    {
     "name": "stdout",
     "output_type": "stream",
     "text": [
      "[LightGBM] [Warning] Auto-choosing row-wise multi-threading, the overhead of testing was 0.040237 seconds.\n",
      "You can set `force_row_wise=true` to remove the overhead.\n",
      "And if memory is not enough, you can set `force_col_wise=true`.\n",
      "[LightGBM] [Info] Total Bins 2026\n",
      "[LightGBM] [Info] Number of data points in the train set: 878049, number of used features: 12\n",
      "[LightGBM] [Info] Start training from score -6.363608\n",
      "[LightGBM] [Info] Start training from score -2.435509\n",
      "[LightGBM] [Info] Start training from score -7.679105\n",
      "[LightGBM] [Info] Start training from score -8.019031\n",
      "[LightGBM] [Info] Start training from score -3.173428\n",
      "[LightGBM] [Info] Start training from score -5.314447\n",
      "[LightGBM] [Info] Start training from score -5.958804\n",
      "[LightGBM] [Info] Start training from score -2.789256\n",
      "[LightGBM] [Info] Start training from score -5.323749\n",
      "[LightGBM] [Info] Start training from score -6.624123\n",
      "[LightGBM] [Info] Start training from score -8.140280\n",
      "[LightGBM] [Info] Start training from score -7.489014\n",
      "[LightGBM] [Info] Start training from score -4.416000\n",
      "[LightGBM] [Info] Start training from score -3.963552\n",
      "[LightGBM] [Info] Start training from score -8.701851\n",
      "[LightGBM] [Info] Start training from score -5.927124\n",
      "[LightGBM] [Info] Start training from score -1.613488\n",
      "[LightGBM] [Info] Start training from score -6.134271\n",
      "[LightGBM] [Info] Start training from score -6.574762\n",
      "[LightGBM] [Info] Start training from score -3.520029\n",
      "[LightGBM] [Info] Start training from score -2.252615\n",
      "[LightGBM] [Info] Start training from score -1.939977\n",
      "[LightGBM] [Info] Start training from score -10.594415\n",
      "[LightGBM] [Info] Start training from score -4.764935\n",
      "[LightGBM] [Info] Start training from score -5.634117\n",
      "[LightGBM] [Info] Start training from score -3.642208\n",
      "[LightGBM] [Info] Start training from score -6.111926\n",
      "[LightGBM] [Info] Start training from score -4.476618\n",
      "[LightGBM] [Info] Start training from score -5.298829\n",
      "[LightGBM] [Info] Start training from score -8.688245\n",
      "[LightGBM] [Info] Start training from score -5.264775\n",
      "[LightGBM] [Info] Start training from score -7.454976\n",
      "[LightGBM] [Info] Start training from score -3.330449\n",
      "[LightGBM] [Info] Start training from score -11.893698\n",
      "[LightGBM] [Info] Start training from score -4.786273\n",
      "[LightGBM] [Info] Start training from score -2.977170\n",
      "[LightGBM] [Info] Start training from score -2.792782\n",
      "[LightGBM] [Info] Start training from score -3.034950\n",
      "[LightGBM] [Info] Start training from score -4.631186\n",
      "[LightGBM] [Warning] No further splits with positive gain, best gain: -inf\n",
      "[LightGBM] [Warning] No further splits with positive gain, best gain: -inf\n",
      "[LightGBM] [Warning] No further splits with positive gain, best gain: -inf\n",
      "[LightGBM] [Warning] No further splits with positive gain, best gain: -inf\n",
      "[LightGBM] [Warning] No further splits with positive gain, best gain: -inf\n",
      "[LightGBM] [Warning] No further splits with positive gain, best gain: -inf\n",
      "[LightGBM] [Warning] No further splits with positive gain, best gain: -inf\n",
      "[LightGBM] [Warning] No further splits with positive gain, best gain: -inf\n",
      "[LightGBM] [Warning] No further splits with positive gain, best gain: -inf\n",
      "[LightGBM] [Warning] No further splits with positive gain, best gain: -inf\n",
      "[LightGBM] [Warning] No further splits with positive gain, best gain: -inf\n",
      "[LightGBM] [Warning] No further splits with positive gain, best gain: -inf\n",
      "[LightGBM] [Warning] No further splits with positive gain, best gain: -inf\n",
      "[LightGBM] [Warning] No further splits with positive gain, best gain: -inf\n",
      "[LightGBM] [Warning] No further splits with positive gain, best gain: -inf\n",
      "[LightGBM] [Warning] No further splits with positive gain, best gain: -inf\n",
      "[LightGBM] [Warning] No further splits with positive gain, best gain: -inf\n",
      "[LightGBM] [Warning] No further splits with positive gain, best gain: -inf\n",
      "[LightGBM] [Warning] No further splits with positive gain, best gain: -inf\n",
      "[LightGBM] [Warning] No further splits with positive gain, best gain: -inf\n",
      "[LightGBM] [Warning] No further splits with positive gain, best gain: -inf\n",
      "[LightGBM] [Warning] No further splits with positive gain, best gain: -inf\n",
      "[LightGBM] [Warning] No further splits with positive gain, best gain: -inf\n",
      "[LightGBM] [Warning] No further splits with positive gain, best gain: -inf\n",
      "[LightGBM] [Warning] No further splits with positive gain, best gain: -inf\n",
      "[LightGBM] [Warning] No further splits with positive gain, best gain: -inf\n",
      "[LightGBM] [Warning] No further splits with positive gain, best gain: -inf\n",
      "[LightGBM] [Warning] No further splits with positive gain, best gain: -inf\n",
      "[LightGBM] [Warning] No further splits with positive gain, best gain: -inf\n",
      "[LightGBM] [Warning] No further splits with positive gain, best gain: -inf\n",
      "[LightGBM] [Warning] No further splits with positive gain, best gain: -inf\n",
      "[LightGBM] [Warning] No further splits with positive gain, best gain: -inf\n",
      "[LightGBM] [Warning] No further splits with positive gain, best gain: -inf\n",
      "[LightGBM] [Warning] No further splits with positive gain, best gain: -inf\n",
      "[LightGBM] [Warning] No further splits with positive gain, best gain: -inf\n",
      "[LightGBM] [Warning] No further splits with positive gain, best gain: -inf\n",
      "[LightGBM] [Warning] No further splits with positive gain, best gain: -inf\n",
      "[LightGBM] [Warning] No further splits with positive gain, best gain: -inf\n",
      "[LightGBM] [Warning] No further splits with positive gain, best gain: -inf\n",
      "[LightGBM] [Warning] No further splits with positive gain, best gain: -inf\n",
      "[LightGBM] [Warning] No further splits with positive gain, best gain: -inf\n",
      "[LightGBM] [Warning] No further splits with positive gain, best gain: -inf\n",
      "[LightGBM] [Warning] No further splits with positive gain, best gain: -inf\n",
      "[LightGBM] [Warning] No further splits with positive gain, best gain: -inf\n",
      "[LightGBM] [Warning] No further splits with positive gain, best gain: -inf\n",
      "[LightGBM] [Warning] No further splits with positive gain, best gain: -inf\n",
      "[LightGBM] [Warning] No further splits with positive gain, best gain: -inf\n",
      "[LightGBM] [Warning] No further splits with positive gain, best gain: -inf\n",
      "[LightGBM] [Warning] No further splits with positive gain, best gain: -inf\n",
      "[LightGBM] [Warning] No further splits with positive gain, best gain: -inf\n",
      "[LightGBM] [Warning] No further splits with positive gain, best gain: -inf\n",
      "[LightGBM] [Warning] No further splits with positive gain, best gain: -inf\n",
      "[LightGBM] [Warning] No further splits with positive gain, best gain: -inf\n",
      "[LightGBM] [Warning] No further splits with positive gain, best gain: -inf\n",
      "[LightGBM] [Warning] No further splits with positive gain, best gain: -inf\n",
      "[LightGBM] [Warning] No further splits with positive gain, best gain: -inf\n",
      "[LightGBM] [Warning] No further splits with positive gain, best gain: -inf\n",
      "[LightGBM] [Warning] No further splits with positive gain, best gain: -inf\n",
      "[LightGBM] [Warning] No further splits with positive gain, best gain: -inf\n",
      "[LightGBM] [Warning] No further splits with positive gain, best gain: -inf\n",
      "[LightGBM] [Warning] No further splits with positive gain, best gain: -inf\n",
      "[LightGBM] [Warning] No further splits with positive gain, best gain: -inf\n",
      "[LightGBM] [Warning] No further splits with positive gain, best gain: -inf\n",
      "[LightGBM] [Warning] No further splits with positive gain, best gain: -inf\n",
      "[LightGBM] [Warning] No further splits with positive gain, best gain: -inf\n",
      "[LightGBM] [Warning] No further splits with positive gain, best gain: -inf\n",
      "[LightGBM] [Warning] No further splits with positive gain, best gain: -inf\n",
      "[LightGBM] [Warning] No further splits with positive gain, best gain: -inf\n",
      "[LightGBM] [Warning] No further splits with positive gain, best gain: -inf\n",
      "[LightGBM] [Warning] No further splits with positive gain, best gain: -inf\n",
      "[LightGBM] [Warning] No further splits with positive gain, best gain: -inf\n",
      "[LightGBM] [Warning] No further splits with positive gain, best gain: -inf\n",
      "[LightGBM] [Warning] No further splits with positive gain, best gain: -inf\n",
      "[LightGBM] [Warning] No further splits with positive gain, best gain: -inf\n",
      "[LightGBM] [Warning] No further splits with positive gain, best gain: -inf\n",
      "[LightGBM] [Warning] No further splits with positive gain, best gain: -inf\n",
      "[LightGBM] [Warning] No further splits with positive gain, best gain: -inf\n",
      "[LightGBM] [Warning] No further splits with positive gain, best gain: -inf\n",
      "[LightGBM] [Warning] No further splits with positive gain, best gain: -inf\n",
      "[LightGBM] [Warning] No further splits with positive gain, best gain: -inf\n",
      "[LightGBM] [Warning] No further splits with positive gain, best gain: -inf\n",
      "[LightGBM] [Warning] No further splits with positive gain, best gain: -inf\n",
      "[LightGBM] [Warning] No further splits with positive gain, best gain: -inf\n",
      "[LightGBM] [Warning] No further splits with positive gain, best gain: -inf\n",
      "[LightGBM] [Warning] No further splits with positive gain, best gain: -inf\n",
      "[LightGBM] [Warning] No further splits with positive gain, best gain: -inf\n",
      "[LightGBM] [Warning] No further splits with positive gain, best gain: -inf\n",
      "[LightGBM] [Warning] No further splits with positive gain, best gain: -inf\n",
      "[LightGBM] [Warning] No further splits with positive gain, best gain: -inf\n",
      "[LightGBM] [Warning] No further splits with positive gain, best gain: -inf\n",
      "[LightGBM] [Warning] No further splits with positive gain, best gain: -inf\n",
      "[LightGBM] [Warning] No further splits with positive gain, best gain: -inf\n",
      "[LightGBM] [Warning] No further splits with positive gain, best gain: -inf\n",
      "[LightGBM] [Warning] No further splits with positive gain, best gain: -inf\n",
      "[LightGBM] [Warning] No further splits with positive gain, best gain: -inf\n",
      "[LightGBM] [Warning] No further splits with positive gain, best gain: -inf\n",
      "[LightGBM] [Warning] No further splits with positive gain, best gain: -inf\n",
      "[LightGBM] [Warning] No further splits with positive gain, best gain: -inf\n",
      "[LightGBM] [Warning] No further splits with positive gain, best gain: -inf\n",
      "[LightGBM] [Warning] No further splits with positive gain, best gain: -inf\n",
      "[LightGBM] [Warning] No further splits with positive gain, best gain: -inf\n",
      "[LightGBM] [Warning] No further splits with positive gain, best gain: -inf\n",
      "[LightGBM] [Warning] No further splits with positive gain, best gain: -inf\n",
      "[LightGBM] [Warning] No further splits with positive gain, best gain: -inf\n",
      "[LightGBM] [Warning] No further splits with positive gain, best gain: -inf\n",
      "[LightGBM] [Warning] No further splits with positive gain, best gain: -inf\n",
      "[LightGBM] [Warning] No further splits with positive gain, best gain: -inf\n",
      "[LightGBM] [Warning] No further splits with positive gain, best gain: -inf\n",
      "[LightGBM] [Warning] No further splits with positive gain, best gain: -inf\n",
      "[LightGBM] [Warning] No further splits with positive gain, best gain: -inf\n",
      "[LightGBM] [Warning] No further splits with positive gain, best gain: -inf\n",
      "[LightGBM] [Warning] No further splits with positive gain, best gain: -inf\n",
      "[LightGBM] [Warning] No further splits with positive gain, best gain: -inf\n",
      "[LightGBM] [Warning] No further splits with positive gain, best gain: -inf\n",
      "[LightGBM] [Warning] No further splits with positive gain, best gain: -inf\n",
      "[LightGBM] [Warning] No further splits with positive gain, best gain: -inf\n",
      "[LightGBM] [Warning] No further splits with positive gain, best gain: -inf\n",
      "[LightGBM] [Warning] No further splits with positive gain, best gain: -inf\n",
      "[LightGBM] [Warning] No further splits with positive gain, best gain: -inf\n",
      "[LightGBM] [Warning] No further splits with positive gain, best gain: -inf\n",
      "[LightGBM] [Warning] No further splits with positive gain, best gain: -inf\n",
      "[LightGBM] [Warning] No further splits with positive gain, best gain: -inf\n",
      "[LightGBM] [Warning] No further splits with positive gain, best gain: -inf\n",
      "[LightGBM] [Warning] No further splits with positive gain, best gain: -inf\n",
      "[LightGBM] [Warning] No further splits with positive gain, best gain: -inf\n",
      "[LightGBM] [Warning] No further splits with positive gain, best gain: -inf\n",
      "[LightGBM] [Warning] No further splits with positive gain, best gain: -inf\n",
      "[LightGBM] [Warning] No further splits with positive gain, best gain: -inf\n",
      "[LightGBM] [Warning] No further splits with positive gain, best gain: -inf\n",
      "[LightGBM] [Warning] No further splits with positive gain, best gain: -inf\n",
      "[LightGBM] [Warning] No further splits with positive gain, best gain: -inf\n",
      "[LightGBM] [Warning] No further splits with positive gain, best gain: -inf\n",
      "[LightGBM] [Warning] No further splits with positive gain, best gain: -inf\n",
      "[LightGBM] [Warning] No further splits with positive gain, best gain: -inf\n",
      "[LightGBM] [Warning] No further splits with positive gain, best gain: -inf\n",
      "[LightGBM] [Warning] No further splits with positive gain, best gain: -inf\n",
      "[LightGBM] [Warning] No further splits with positive gain, best gain: -inf\n",
      "[LightGBM] [Warning] No further splits with positive gain, best gain: -inf\n",
      "[LightGBM] [Warning] No further splits with positive gain, best gain: -inf\n",
      "[LightGBM] [Warning] No further splits with positive gain, best gain: -inf\n",
      "[LightGBM] [Warning] No further splits with positive gain, best gain: -inf\n",
      "[LightGBM] [Warning] No further splits with positive gain, best gain: -inf\n",
      "[LightGBM] [Warning] No further splits with positive gain, best gain: -inf\n",
      "[LightGBM] [Warning] No further splits with positive gain, best gain: -inf\n",
      "[LightGBM] [Warning] No further splits with positive gain, best gain: -inf\n",
      "[LightGBM] [Warning] No further splits with positive gain, best gain: -inf\n",
      "[LightGBM] [Warning] No further splits with positive gain, best gain: -inf\n",
      "[LightGBM] [Warning] No further splits with positive gain, best gain: -inf\n",
      "[LightGBM] [Warning] No further splits with positive gain, best gain: -inf\n",
      "[LightGBM] [Warning] No further splits with positive gain, best gain: -inf\n",
      "[LightGBM] [Warning] No further splits with positive gain, best gain: -inf\n",
      "[LightGBM] [Warning] No further splits with positive gain, best gain: -inf\n",
      "[LightGBM] [Warning] No further splits with positive gain, best gain: -inf\n",
      "[LightGBM] [Warning] No further splits with positive gain, best gain: -inf\n",
      "[LightGBM] [Warning] No further splits with positive gain, best gain: -inf\n",
      "[LightGBM] [Warning] No further splits with positive gain, best gain: -inf\n",
      "[LightGBM] [Warning] No further splits with positive gain, best gain: -inf\n",
      "[LightGBM] [Warning] No further splits with positive gain, best gain: -inf\n",
      "[LightGBM] [Warning] No further splits with positive gain, best gain: -inf\n",
      "[LightGBM] [Warning] No further splits with positive gain, best gain: -inf\n",
      "[LightGBM] [Warning] No further splits with positive gain, best gain: -inf\n",
      "[LightGBM] [Warning] No further splits with positive gain, best gain: -inf\n",
      "[LightGBM] [Warning] No further splits with positive gain, best gain: -inf\n",
      "[LightGBM] [Warning] No further splits with positive gain, best gain: -inf\n",
      "[LightGBM] [Warning] No further splits with positive gain, best gain: -inf\n",
      "[LightGBM] [Warning] No further splits with positive gain, best gain: -inf\n",
      "[LightGBM] [Warning] No further splits with positive gain, best gain: -inf\n",
      "[LightGBM] [Warning] No further splits with positive gain, best gain: -inf\n",
      "[LightGBM] [Warning] No further splits with positive gain, best gain: -inf\n",
      "[LightGBM] [Warning] No further splits with positive gain, best gain: -inf\n",
      "[LightGBM] [Warning] No further splits with positive gain, best gain: -inf\n"
     ]
    }
   ],
   "source": [
    "import lightgbm as lg\n",
    "trains = lg.Dataset(data_train, label = target, categorical_feature=['PdDis', 'DayWeek'])\n",
    "params = {\n",
    "    'boosting':'gbdt',\n",
    "    'objective':'multiclass',\n",
    "    'num_class':39,\n",
    "    'max_delta_step':0.9,\n",
    "    'min_data_in_leaf': 20,\n",
    "    'learning_rate': 0.4,\n",
    "    'max_bin': 480,\n",
    "    'num_leaves': 45,\n",
    "    'verbose' : 1\n",
    "}\n",
    "bst = lg.train(params, trains, 120)"
   ]
  },
  {
   "cell_type": "code",
   "execution_count": 30,
   "id": "697da439",
   "metadata": {
    "execution": {
     "iopub.execute_input": "2021-08-05T00:02:16.170050Z",
     "iopub.status.busy": "2021-08-05T00:02:16.168159Z",
     "iopub.status.idle": "2021-08-05T00:04:25.785561Z",
     "shell.execute_reply": "2021-08-05T00:04:25.786203Z",
     "shell.execute_reply.started": "2021-08-04T23:30:09.747787Z"
    },
    "papermill": {
     "duration": 129.717127,
     "end_time": "2021-08-05T00:04:25.786504",
     "exception": false,
     "start_time": "2021-08-05T00:02:16.069377",
     "status": "completed"
    },
    "tags": []
   },
   "outputs": [],
   "source": [
    "prediction = bst.predict(data_test)"
   ]
  },
  {
   "cell_type": "code",
   "execution_count": 31,
   "id": "a08c46c7",
   "metadata": {
    "execution": {
     "iopub.execute_input": "2021-08-05T00:04:25.984391Z",
     "iopub.status.busy": "2021-08-05T00:04:25.983565Z",
     "iopub.status.idle": "2021-08-05T00:05:47.302131Z",
     "shell.execute_reply": "2021-08-05T00:05:47.302751Z",
     "shell.execute_reply.started": "2021-08-04T23:54:26.934902Z"
    },
    "papermill": {
     "duration": 81.422006,
     "end_time": "2021-08-05T00:05:47.302976",
     "exception": false,
     "start_time": "2021-08-05T00:04:25.880970",
     "status": "completed"
    },
    "tags": []
   },
   "outputs": [],
   "source": [
    "result1 = pd.DataFrame(prediction, columns = LB.inverse_transform(np.linspace(0, 38, 39, dtype='int16')),index=data_test.index) \n",
    "result1.head()\n",
    "result1.to_csv('submission-1', index_label = 'Id')"
   ]
  },
  {
   "cell_type": "code",
   "execution_count": null,
   "id": "30d1eedd",
   "metadata": {
    "papermill": {
     "duration": 0.094132,
     "end_time": "2021-08-05T00:05:47.490053",
     "exception": false,
     "start_time": "2021-08-05T00:05:47.395921",
     "status": "completed"
    },
    "tags": []
   },
   "outputs": [],
   "source": []
  }
 ],
 "metadata": {
  "kernelspec": {
   "display_name": "Python 3",
   "language": "python",
   "name": "python3"
  },
  "language_info": {
   "codemirror_mode": {
    "name": "ipython",
    "version": 3
   },
   "file_extension": ".py",
   "mimetype": "text/x-python",
   "name": "python",
   "nbconvert_exporter": "python",
   "pygments_lexer": "ipython3",
   "version": "3.7.10"
  },
  "papermill": {
   "default_parameters": {},
   "duration": 441.153445,
   "end_time": "2021-08-05T00:05:49.484692",
   "environment_variables": {},
   "exception": null,
   "input_path": "__notebook__.ipynb",
   "output_path": "__notebook__.ipynb",
   "parameters": {},
   "start_time": "2021-08-04T23:58:28.331247",
   "version": "2.3.3"
  }
 },
 "nbformat": 4,
 "nbformat_minor": 5
}
